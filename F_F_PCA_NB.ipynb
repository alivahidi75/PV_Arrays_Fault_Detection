{
 "cells": [
  {
   "cell_type": "code",
   "execution_count": 46,
   "id": "b61337ee",
   "metadata": {},
   "outputs": [],
   "source": [
    "from sklearn.decomposition import PCA\n",
    "import matplotlib.pyplot as plt\n",
    "from sklearn import datasets\n",
    "from sklearn.model_selection import train_test_split\n",
    "\n",
    "import statistics \n",
    "import numpy as np\n",
    "import matplotlib.pyplot as plt\n",
    "import pandas as pd\n",
    "from sklearn.tree            import DecisionTreeClassifier\n",
    "from sklearn.model_selection import train_test_split\n",
    "from sklearn                 import datasets\n",
    "from matplotlib.colors       import ListedColormap\n",
    "from sklearn.metrics         import confusion_matrix\n",
    "from sklearn.metrics         import accuracy_score\n",
    "from sklearn.metrics         import accuracy_score\n",
    "from sklearn.metrics         import classification_report\n",
    "from sklearn.metrics         import plot_confusion_matrix\n",
    "from matplotlib              import pyplot\n",
    "from sklearn.metrics         import roc_curve\n",
    "\n",
    "from sklearn.naive_bayes     import GaussianNB\n",
    "from sklearn.model_selection import train_test_split\n",
    "from sklearn                 import metrics\n",
    "from sklearn.preprocessing   import StandardScaler\n",
    "\n",
    "from sklearn.model_selection import KFold\n",
    "from sklearn.model_selection import cross_val_score"
   ]
  },
  {
   "cell_type": "code",
   "execution_count": 47,
   "id": "1c190425",
   "metadata": {},
   "outputs": [
    {
     "data": {
      "text/plain": [
       "(1600, 7)"
      ]
     },
     "execution_count": 47,
     "metadata": {},
     "output_type": "execute_result"
    }
   ],
   "source": [
    "df = pd.read_csv(\"C:/Users/ISD/Python_ali/fault_detection/Pv_Data2.csv\")\n",
    "df;\n",
    "X = df.drop(['Target'],axis=1).values\n",
    "\n",
    "Y=df.loc[:,'Target']\n",
    "X.shape"
   ]
  },
  {
   "cell_type": "code",
   "execution_count": 48,
   "id": "d99c2e29",
   "metadata": {},
   "outputs": [],
   "source": [
    "pca = PCA(n_components=7)"
   ]
  },
  {
   "cell_type": "code",
   "execution_count": 49,
   "id": "8717e5e3",
   "metadata": {},
   "outputs": [
    {
     "data": {
      "text/plain": [
       "PCA(n_components=7)"
      ]
     },
     "execution_count": 49,
     "metadata": {},
     "output_type": "execute_result"
    }
   ],
   "source": [
    "pca.fit(X)"
   ]
  },
  {
   "cell_type": "code",
   "execution_count": 50,
   "id": "f8ebba24",
   "metadata": {},
   "outputs": [],
   "source": [
    "X_pca = pca.transform(X)"
   ]
  },
  {
   "cell_type": "code",
   "execution_count": 51,
   "id": "081d1328",
   "metadata": {},
   "outputs": [],
   "source": [
    "trainX, testX,trainY,testY = train_test_split(X_pca ,Y, test_size=0.3, random_state=0)"
   ]
  },
  {
   "cell_type": "code",
   "execution_count": 52,
   "id": "b902df78",
   "metadata": {},
   "outputs": [],
   "source": [
    "sc=StandardScaler()\n",
    "\n",
    "scaler = sc.fit(trainX)\n",
    "trainX = scaler.transform(trainX)\n",
    "testX = scaler.transform(testX)"
   ]
  },
  {
   "cell_type": "code",
   "execution_count": 53,
   "id": "c24fc0be",
   "metadata": {},
   "outputs": [],
   "source": [
    "model = GaussianNB()\n",
    "model.fit(trainX, trainY);"
   ]
  },
  {
   "cell_type": "code",
   "execution_count": 54,
   "id": "6ad5e7ea",
   "metadata": {},
   "outputs": [],
   "source": [
    "ypred=model.predict(trainX)"
   ]
  },
  {
   "cell_type": "code",
   "execution_count": 55,
   "id": "7db8c5de",
   "metadata": {},
   "outputs": [
    {
     "data": {
      "text/plain": [
       "84.73214285714286"
      ]
     },
     "execution_count": 55,
     "metadata": {},
     "output_type": "execute_result"
    }
   ],
   "source": [
    "c=accuracy_score(trainY,ypred)*100\n",
    "c"
   ]
  },
  {
   "cell_type": "code",
   "execution_count": 56,
   "id": "1f6bc74a",
   "metadata": {},
   "outputs": [
    {
     "data": {
      "image/png": "[encoded data removed]",
      "text/plain": [
       "<Figure size 432x288 with 2 Axes>"
      ]
     },
     "metadata": {
      "needs_background": "light"
     },
     "output_type": "display_data"
    }
   ],
   "source": [
    "fig = plot_confusion_matrix(model,trainX,trainY, display_labels=model.classes_)\n",
    "fig.figure_.suptitle(\"Confusion Matrix for PV Dataset\")\n",
    "plt.show()"
   ]
  },
  {
   "cell_type": "code",
   "execution_count": 57,
   "id": "d3049a36",
   "metadata": {},
   "outputs": [],
   "source": [
    "ypred1=model.predict(testX)"
   ]
  },
  {
   "cell_type": "code",
   "execution_count": 58,
   "id": "6d50493a",
   "metadata": {},
   "outputs": [
    {
     "data": {
      "text/plain": [
       "85.83333333333333"
      ]
     },
     "execution_count": 58,
     "metadata": {},
     "output_type": "execute_result"
    }
   ],
   "source": [
    "c=accuracy_score(testY,ypred1)*100\n",
    "c"
   ]
  },
  {
   "cell_type": "code",
   "execution_count": 59,
   "id": "4343136d",
   "metadata": {},
   "outputs": [],
   "source": [
    "YR=np.concatenate((trainY,testY),axis=0)"
   ]
  },
  {
   "cell_type": "code",
   "execution_count": 60,
   "id": "4e37b777",
   "metadata": {},
   "outputs": [],
   "source": [
    "YP = np.concatenate((ypred,ypred1), axis=0)"
   ]
  },
  {
   "cell_type": "code",
   "execution_count": 61,
   "id": "cc568721",
   "metadata": {},
   "outputs": [
    {
     "data": {
      "text/plain": [
       "85.0625"
      ]
     },
     "execution_count": 61,
     "metadata": {},
     "output_type": "execute_result"
    }
   ],
   "source": [
    "ac2=accuracy_score(YR,YP)*100\n",
    "ac2"
   ]
  },
  {
   "cell_type": "code",
   "execution_count": 62,
   "id": "46849714",
   "metadata": {},
   "outputs": [
    {
     "data": {
      "text/plain": [
       "array([[120,   0,   1,   8,   7,   4,   2,   0,  18,   0],\n",
       "       [  0, 159,   0,   0,   0,   0,   0,   1,   0,   0],\n",
       "       [  0,   0, 158,   0,   0,   0,   0,   2,   0,   0],\n",
       "       [  0,   0,   2, 152,   0,   3,   0,   0,   0,   3],\n",
       "       [  0,   1,   1,   8, 137,   0,   4,   0,   9,   0],\n",
       "       [  0,   0,   0,   6,  29, 121,   0,   2,   2,   0],\n",
       "       [  0,   0,   0,   3,  14,  10, 110,   0,  23,   0],\n",
       "       [  0,   0,   7,   0,   0,   0,   0, 153,   0,   0],\n",
       "       [  0,   0,   0,   8,  27,   1,  28,   0,  96,   0],\n",
       "       [  0,   0,   2,   1,   0,   2,   0,   0,   0, 155]], dtype=int64)"
      ]
     },
     "execution_count": 62,
     "metadata": {},
     "output_type": "execute_result"
    }
   ],
   "source": [
    "c2=confusion_matrix(YR,YP)\n",
    "c2"
   ]
  },
  {
   "cell_type": "code",
   "execution_count": null,
   "id": "128783d0",
   "metadata": {},
   "outputs": [],
   "source": []
  }
 ],
 "metadata": {
  "kernelspec": {
   "display_name": "Python 3",
   "language": "python",
   "name": "python3"
  },
  "language_info": {
   "codemirror_mode": {
    "name": "ipython",
    "version": 3
   },
   "file_extension": ".py",
   "mimetype": "text/x-python",
   "name": "python",
   "nbconvert_exporter": "python",
   "pygments_lexer": "ipython3",
   "version": "3.8.8"
  }
 },
 "nbformat": 4,
 "nbformat_minor": 5
}
