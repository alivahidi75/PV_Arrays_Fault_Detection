{
 "cells": [
  {
   "cell_type": "code",
   "execution_count": 9,
   "id": "af22ef2a",
   "metadata": {},
   "outputs": [
    {
     "data": {
      "image/png": "[encoded data removed]",
      "text/plain": [
       "<Figure size 432x288 with 2 Axes>"
      ]
     },
     "metadata": {
      "needs_background": "light"
     },
     "output_type": "display_data"
    },
    {
     "data": {
      "image/png": "[encoded data removed]",
      "text/plain": [
       "<Figure size 432x288 with 1 Axes>"
      ]
     },
     "metadata": {
      "needs_background": "light"
     },
     "output_type": "display_data"
    },
    {
     "name": "stdout",
     "output_type": "stream",
     "text": [
      "0.985625\n"
     ]
    }
   ],
   "source": [
    "from sklearn.decomposition   import PCA\n",
    "from sklearn.model_selection import KFold\n",
    "from sklearn.metrics         import accuracy_score\n",
    "from sklearn                 import preprocessing\n",
    "from sklearn.metrics         import plot_confusion_matrix\n",
    "from sklearn.ensemble        import AdaBoostClassifier\n",
    "from sklearn.tree            import DecisionTreeClassifier\n",
    "from sklearn.metrics         import precision_score\n",
    "from sklearn.metrics         import classification_report\n",
    "from sklearn.tree            import DecisionTreeClassifier\n",
    "from sklearn.neighbors       import KNeighborsClassifier\n",
    "from sklearn.svm             import SVC\n",
    "from sklearn.ensemble        import RandomForestClassifier\n",
    "from sklearn.ensemble        import VotingClassifier\n",
    "from sklearn.model_selection import train_test_split\n",
    "\n",
    "import matplotlib.pyplot as plt\n",
    "import pandas            as pd\n",
    "import numpy             as np\n",
    "\n",
    "\n",
    "#Load Data\n",
    "df = pd.read_csv(\"C:/Users/ISD/Python_ali/fault_detection/jupyter/Pv_Data3.csv\")\n",
    "df;\n",
    "X = df.drop(['Target','I1','I2','I3','I4','I5','I6','I7','I8'],axis=1).values\n",
    "X1= df.drop(['Target','Voc','Isc','Vmp','Imp','Pmp','T','G',],axis=1).values\n",
    "Y=df.drop(['Voc','Isc','Vmp','Imp','Pmp','T','G','I1','I2','I3','I4','I5','I6','I7','I8',],axis=1).values.ravel()\n",
    "X.shape\n",
    "\n",
    "\n",
    "#preproccesing\n",
    "pca = PCA(n_components=7)\n",
    "pca.fit(X)\n",
    "X= pca.transform(X)\n",
    "\n",
    "#trainX, testX, trainY, testY = train_test_split(X, Y, test_size = 0.3,random_state=42)\n",
    "\n",
    "k=5\n",
    "kf=KFold(n_splits=k,random_state=None)\n",
    "\n",
    "#model1 = DecisionTreeClassifier(criterion='gini',splitter='best', max_depth=11, random_state=0)\n",
    "model2 = KNeighborsClassifier(n_neighbors=2)\n",
    "model3 = SVC(kernel='linear' ,C=20, gamma='auto',probability=True)\n",
    "model4 = RandomForestClassifier(n_estimators=41, max_depth=7, criterion='entropy' ,random_state=0)\n",
    "model = VotingClassifier(estimators=[('knn',model2), ('svc',model3), ('RF',model4)],voting='soft', weights=[1, 2, 2])\n",
    "\n",
    "acc_score_test=[]\n",
    "acc_score_train=[]\n",
    "acc_score_all=[]  \n",
    "\n",
    "for train_ind,test_ind in kf.split(X):\n",
    "    trainX,testX = X[train_ind,:] , X[test_ind]\n",
    "    trainY,testY = Y[train_ind]   , Y[test_ind]\n",
    "    \n",
    "    model.fit(trainX,trainY)\n",
    "    \n",
    "    pred_values_test=model.predict(testX)\n",
    "    pred_values_train=model.predict(trainX)\n",
    "    pred_values_all=model.predict(X)\n",
    "      \n",
    "    acc_test=accuracy_score(pred_values_test,testY)\n",
    "    acc_train=accuracy_score(pred_values_train,trainY)\n",
    "    acc_all=accuracy_score(pred_values_all,Y)\n",
    "    \n",
    "    acc_score_test.append(acc_test)\n",
    "    acc_score_train.append(acc_train)\n",
    "    acc_score_all.append(acc_all)\n",
    "    \n",
    "    \n",
    "avrage_acc_score_test=np.mean(acc_score_test)    \n",
    "avrage_acc_score_train=np.mean(acc_score_train)    \n",
    "avrage_acc_score_all=np.mean(acc_score_all)\n",
    "\n",
    "\n",
    "pred=model.predict(X)\n",
    "acc=accuracy_score(pred,Y)\n",
    "\n",
    "cr=classification_report(Y,pred)\n",
    "\n",
    "fig = plot_confusion_matrix(model,X,Y, display_labels=model.classes_)\n",
    "fig.figure_.suptitle(\"Confusion Matrix for PV  All Dataset\")\n",
    "plt.show()\n",
    "\n",
    "t=[1,2,3,4,5]\n",
    "plt.plot(t,acc_score_all)\n",
    "plt.xlim(1,10)\n",
    "plt.ylim(0.5,1)\n",
    "plt.show()\n",
    "\n",
    "print(acc)"
   ]
  },
  {
   "cell_type": "code",
   "execution_count": 10,
   "id": "4bbd33ae",
   "metadata": {},
   "outputs": [
    {
     "name": "stdout",
     "output_type": "stream",
     "text": [
      "0.959375\n",
      "0.9962500000000001\n",
      "0.988875\n"
     ]
    }
   ],
   "source": [
    "print(avrage_acc_score_test)\n",
    "print(avrage_acc_score_train)\n",
    "print(avrage_acc_score_all)"
   ]
  },
  {
   "cell_type": "code",
   "execution_count": null,
   "id": "21da5364",
   "metadata": {},
   "outputs": [],
   "source": []
  }
 ],
 "metadata": {
  "kernelspec": {
   "display_name": "Python 3",
   "language": "python",
   "name": "python3"
  },
  "language_info": {
   "codemirror_mode": {
    "name": "ipython",
    "version": 3
   },
   "file_extension": ".py",
   "mimetype": "text/x-python",
   "name": "python",
   "nbconvert_exporter": "python",
   "pygments_lexer": "ipython3",
   "version": "3.8.8"
  }
 },
 "nbformat": 4,
 "nbformat_minor": 5
}
