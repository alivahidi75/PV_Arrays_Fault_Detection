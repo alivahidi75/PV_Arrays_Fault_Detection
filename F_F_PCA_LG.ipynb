{
 "cells": [
  {
   "cell_type": "code",
   "execution_count": 19,
   "id": "3a43936d",
   "metadata": {},
   "outputs": [],
   "source": [
    "from sklearn.decomposition import PCA\n",
    "import matplotlib.pyplot as plt\n",
    "from sklearn import datasets\n",
    "from sklearn.model_selection import train_test_split\n",
    "from sklearn.model_selection import KFold\n",
    "from sklearn.model_selection import cross_val_score\n",
    "import pandas as pd\n",
    "import numpy as np\n",
    "\n",
    "from sklearn.linear_model    import LogisticRegression\n",
    "from sklearn.preprocessing   import StandardScaler\n",
    "from sklearn.metrics         import confusion_matrix\n",
    "from sklearn.metrics         import plot_confusion_matrix\n",
    "from sklearn.metrics         import classification_report\n",
    "from sklearn.metrics         import accuracy_score\n",
    "from sklearn.metrics         import accuracy_score"
   ]
  },
  {
   "cell_type": "code",
   "execution_count": 20,
   "id": "be4775e7",
   "metadata": {},
   "outputs": [
    {
     "data": {
      "text/plain": [
       "(1600, 7)"
      ]
     },
     "execution_count": 20,
     "metadata": {},
     "output_type": "execute_result"
    }
   ],
   "source": [
    "df = pd.read_csv(\"C:/Users/ISD/Python_ali/fault_detection/Pv_Data2.csv\")\n",
    "df;\n",
    "X = df.drop(['Target'],axis=1).values\n",
    "\n",
    "Y=df.loc[:,'Target']\n",
    "X.shape"
   ]
  },
  {
   "cell_type": "code",
   "execution_count": 21,
   "id": "57948f17",
   "metadata": {},
   "outputs": [],
   "source": [
    "pca = PCA(n_components=7)"
   ]
  },
  {
   "cell_type": "code",
   "execution_count": 22,
   "id": "0565cbe8",
   "metadata": {},
   "outputs": [
    {
     "data": {
      "text/plain": [
       "PCA(n_components=7)"
      ]
     },
     "execution_count": 22,
     "metadata": {},
     "output_type": "execute_result"
    }
   ],
   "source": [
    "pca.fit(X)"
   ]
  },
  {
   "cell_type": "code",
   "execution_count": 23,
   "id": "0711e0d5",
   "metadata": {},
   "outputs": [],
   "source": [
    "X_pca = pca.transform(X)"
   ]
  },
  {
   "cell_type": "code",
   "execution_count": 24,
   "id": "ddb1cbe6",
   "metadata": {},
   "outputs": [],
   "source": [
    "inputs_train, inputs_test, targets_train, targets_test = train_test_split(X_pca ,Y, test_size=0.3, random_state=0)"
   ]
  },
  {
   "cell_type": "code",
   "execution_count": 25,
   "id": "5ef3fd2c",
   "metadata": {},
   "outputs": [],
   "source": [
    "sc=StandardScaler()\n",
    "\n",
    "scaler = sc.fit(inputs_train)\n",
    "inputs_train = scaler.transform(inputs_train)\n",
    "inputs_test = scaler.transform(inputs_test)"
   ]
  },
  {
   "cell_type": "code",
   "execution_count": 26,
   "id": "3be1fc1d",
   "metadata": {},
   "outputs": [],
   "source": [
    "clf = LogisticRegression( solver='lbfgs', multi_class='multinomial',penalty='l2')"
   ]
  },
  {
   "cell_type": "code",
   "execution_count": 27,
   "id": "291d9d3f",
   "metadata": {},
   "outputs": [],
   "source": [
    "%%capture\n",
    "clf.fit(inputs_train,targets_train)"
   ]
  },
  {
   "cell_type": "code",
   "execution_count": 28,
   "id": "63c7d98e",
   "metadata": {},
   "outputs": [],
   "source": [
    "ypred=clf.predict(inputs_test)\n",
    "ypred;"
   ]
  },
  {
   "cell_type": "code",
   "execution_count": 29,
   "id": "4bb9f16d",
   "metadata": {},
   "outputs": [
    {
     "data": {
      "text/plain": [
       "95.20833333333333"
      ]
     },
     "execution_count": 29,
     "metadata": {},
     "output_type": "execute_result"
    }
   ],
   "source": [
    "ac=accuracy_score(targets_test,ypred)*100\n",
    "ac"
   ]
  },
  {
   "cell_type": "code",
   "execution_count": 30,
   "id": "95dded45",
   "metadata": {},
   "outputs": [
    {
     "data": {
      "text/plain": [
       "array([[37,  0,  0,  0,  0,  0,  0,  0,  2,  0],\n",
       "       [ 0, 48,  0,  0,  0,  0,  1,  0,  0,  0],\n",
       "       [ 0,  0, 48,  0,  0,  0,  0,  3,  0,  0],\n",
       "       [ 0,  0,  0, 42,  0,  0,  0,  0,  0,  0],\n",
       "       [ 0,  0,  0,  0, 40,  0,  0,  0,  3,  0],\n",
       "       [ 1,  1,  0,  0,  1, 44,  0,  1,  2,  0],\n",
       "       [ 0,  1,  0,  0,  2,  0, 44,  0,  0,  0],\n",
       "       [ 0,  0,  1,  0,  0,  0,  0, 49,  0,  0],\n",
       "       [ 0,  0,  0,  0,  4,  0,  0,  0, 50,  0],\n",
       "       [ 0,  0,  0,  0,  0,  0,  0,  0,  0, 55]], dtype=int64)"
      ]
     },
     "execution_count": 30,
     "metadata": {},
     "output_type": "execute_result"
    }
   ],
   "source": [
    "c=confusion_matrix(targets_test,ypred)\n",
    "c"
   ]
  },
  {
   "cell_type": "code",
   "execution_count": 31,
   "id": "75f83313",
   "metadata": {},
   "outputs": [],
   "source": [
    "ypred1=clf.predict(inputs_train)"
   ]
  },
  {
   "cell_type": "code",
   "execution_count": 32,
   "id": "cce32008",
   "metadata": {},
   "outputs": [
    {
     "data": {
      "text/plain": [
       "94.375"
      ]
     },
     "execution_count": 32,
     "metadata": {},
     "output_type": "execute_result"
    }
   ],
   "source": [
    "ac1=accuracy_score(targets_train,ypred1)*100\n",
    "ac1"
   ]
  },
  {
   "cell_type": "code",
   "execution_count": 33,
   "id": "8ba3695c",
   "metadata": {},
   "outputs": [
    {
     "data": {
      "text/plain": [
       "array([[112,   0,   0,   0,   1,   0,   2,   0,   6,   0],\n",
       "       [  0, 108,   0,   0,   1,   0,   2,   0,   0,   0],\n",
       "       [  0,   0, 108,   0,   0,   0,   0,   1,   0,   0],\n",
       "       [  0,   0,   0, 115,   0,   2,   0,   0,   0,   1],\n",
       "       [  1,   0,   0,   0, 108,   0,   0,   0,   8,   0],\n",
       "       [  0,   0,   0,   0,   4, 103,   0,   0,   3,   0],\n",
       "       [  0,   5,   0,   0,   2,   0, 103,   0,   3,   0],\n",
       "       [  0,   0,   3,   0,   0,   1,   0, 106,   0,   0],\n",
       "       [  6,   0,   0,   0,   8,   2,   0,   0,  90,   0],\n",
       "       [  0,   0,   0,   1,   0,   0,   0,   0,   0, 104]], dtype=int64)"
      ]
     },
     "execution_count": 33,
     "metadata": {},
     "output_type": "execute_result"
    }
   ],
   "source": [
    "c1=confusion_matrix(targets_train,ypred1)\n",
    "c1"
   ]
  },
  {
   "cell_type": "code",
   "execution_count": 34,
   "id": "47c9f4a3",
   "metadata": {},
   "outputs": [],
   "source": [
    "YR=np.concatenate((targets_test,targets_train),axis=0)"
   ]
  },
  {
   "cell_type": "code",
   "execution_count": 35,
   "id": "ed605db0",
   "metadata": {},
   "outputs": [],
   "source": [
    "YP = np.concatenate((ypred,ypred1), axis=0)"
   ]
  },
  {
   "cell_type": "code",
   "execution_count": 36,
   "id": "bd74745a",
   "metadata": {},
   "outputs": [
    {
     "data": {
      "text/plain": [
       "94.625"
      ]
     },
     "execution_count": 36,
     "metadata": {},
     "output_type": "execute_result"
    }
   ],
   "source": [
    "ac2=accuracy_score(YR,YP)*100\n",
    "ac2"
   ]
  },
  {
   "cell_type": "code",
   "execution_count": 119,
   "id": "ab591a78",
   "metadata": {},
   "outputs": [
    {
     "data": {
      "text/plain": [
       "array([[133,   0,   0,   1,   2,   0,   0,   0,  22,   2],\n",
       "       [  0,  22,  88,   0,   0,   0,  26,  24,   0,   0],\n",
       "       [  0,   0, 160,   0,   0,   0,   0,   0,   0,   0],\n",
       "       [  0,   0,   0, 118,   0,   0,   0,   0,   0,  42],\n",
       "       [124,   0,   0,   0,  12,   0,   0,   0,  19,   5],\n",
       "       [ 19,   2,   2,  19,  64,   9,   0,   0,  30,  15],\n",
       "       [140,   0,   0,   0,   0,   0,   0,   0,  15,   5],\n",
       "       [  0,   0, 160,   0,   0,   0,   0,   0,   0,   0],\n",
       "       [130,   0,   0,   0,   0,   0,   0,   0,  26,   4],\n",
       "       [  0,   0,   0,   0,   0,   0,   0,   0,   0, 160]], dtype=int64)"
      ]
     },
     "execution_count": 119,
     "metadata": {},
     "output_type": "execute_result"
    }
   ],
   "source": [
    "c2=confusion_matrix(YR,YP)\n",
    "c2"
   ]
  },
  {
   "cell_type": "code",
   "execution_count": null,
   "id": "55743f40",
   "metadata": {},
   "outputs": [],
   "source": []
  }
 ],
 "metadata": {
  "kernelspec": {
   "display_name": "Python 3",
   "language": "python",
   "name": "python3"
  },
  "language_info": {
   "codemirror_mode": {
    "name": "ipython",
    "version": 3
   },
   "file_extension": ".py",
   "mimetype": "text/x-python",
   "name": "python",
   "nbconvert_exporter": "python",
   "pygments_lexer": "ipython3",
   "version": "3.8.8"
  }
 },
 "nbformat": 4,
 "nbformat_minor": 5
}
