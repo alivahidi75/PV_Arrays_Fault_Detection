{
 "cells": [
  {
   "cell_type": "code",
   "execution_count": 12,
   "id": "677b121f",
   "metadata": {},
   "outputs": [],
   "source": [
    "from sklearn.decomposition import PCA\n",
    "import matplotlib.pyplot as plt\n",
    "from sklearn import datasets\n",
    "from sklearn.model_selection import train_test_split\n",
    "from sklearn.model_selection import KFold\n",
    "from sklearn.model_selection import cross_val_score\n",
    "import pandas as pd\n",
    "import numpy  as np\n",
    "\n",
    "from sklearn.linear_model     import LogisticRegression\n",
    "from sklearn.preprocessing   import StandardScaler\n",
    "from sklearn.metrics         import confusion_matrix\n",
    "from sklearn.metrics         import plot_confusion_matrix\n",
    "from sklearn.metrics         import classification_report\n",
    "from sklearn.metrics         import accuracy_score\n",
    "from sklearn.metrics         import accuracy_score"
   ]
  },
  {
   "cell_type": "code",
   "execution_count": 13,
   "id": "5b9c3eeb",
   "metadata": {},
   "outputs": [
    {
     "data": {
      "text/plain": [
       "(1600, 7)"
      ]
     },
     "execution_count": 13,
     "metadata": {},
     "output_type": "execute_result"
    }
   ],
   "source": [
    "df = pd.read_csv(\"C:/Users/ISD/Python_ali/fault_detection/Pv_Data2.csv\")\n",
    "df;\n",
    "X = df.drop(['Target'],axis=1).values\n",
    "\n",
    "Y=df.loc[:,'Target']\n",
    "X.shape"
   ]
  },
  {
   "cell_type": "code",
   "execution_count": 14,
   "id": "5b5bd2f4",
   "metadata": {},
   "outputs": [],
   "source": [
    "inputs_train, inputs_test, targets_train, targets_test = train_test_split(X ,Y, test_size=0.3, random_state=0)"
   ]
  },
  {
   "cell_type": "code",
   "execution_count": 15,
   "id": "bc4d9626",
   "metadata": {},
   "outputs": [],
   "source": [
    "sc=StandardScaler()\n",
    "\n",
    "scaler = sc.fit(inputs_train)\n",
    "inputs_train = scaler.transform(inputs_train)\n",
    "inputs_test = scaler.transform(inputs_test)"
   ]
  },
  {
   "cell_type": "code",
   "execution_count": 16,
   "id": "961db157",
   "metadata": {},
   "outputs": [],
   "source": [
    "clf = LogisticRegression( solver='lbfgs', multi_class='auto',penalty='l2')"
   ]
  },
  {
   "cell_type": "code",
   "execution_count": 17,
   "id": "9cb05f66",
   "metadata": {},
   "outputs": [],
   "source": [
    "%%capture\n",
    "clf.fit(inputs_train,targets_train)"
   ]
  },
  {
   "cell_type": "code",
   "execution_count": 18,
   "id": "375f4a2b",
   "metadata": {},
   "outputs": [],
   "source": [
    "ypred=clf.predict(inputs_test)\n",
    "ypred;"
   ]
  },
  {
   "cell_type": "code",
   "execution_count": 19,
   "id": "cf09b52b",
   "metadata": {},
   "outputs": [
    {
     "data": {
      "text/plain": [
       "82.91666666666667"
      ]
     },
     "execution_count": 19,
     "metadata": {},
     "output_type": "execute_result"
    }
   ],
   "source": [
    "ac=accuracy_score(targets_test,ypred)*100\n",
    "ac"
   ]
  },
  {
   "cell_type": "code",
   "execution_count": 20,
   "id": "ac1c79d9",
   "metadata": {},
   "outputs": [
    {
     "data": {
      "text/plain": [
       "array([[37,  0,  0,  0,  1,  1,  0,  0,  0,  0],\n",
       "       [ 0, 49,  0,  0,  0,  0,  0,  0,  0,  0],\n",
       "       [ 0,  0, 51,  0,  0,  0,  0,  0,  0,  0],\n",
       "       [ 0,  0,  0, 31,  0,  0,  0,  0,  3,  8],\n",
       "       [ 3,  0,  0,  0, 37,  0,  0,  0,  3,  0],\n",
       "       [ 3,  0,  0,  0,  1, 44,  0,  0,  2,  0],\n",
       "       [ 0,  0,  0,  0,  0,  0, 47,  0,  0,  0],\n",
       "       [ 0,  0,  0,  0,  0,  0,  0, 50,  0,  0],\n",
       "       [46,  0,  0,  0,  7,  1,  0,  0,  0,  0],\n",
       "       [ 0,  0,  0,  0,  1,  0,  0,  0,  2, 52]], dtype=int64)"
      ]
     },
     "execution_count": 20,
     "metadata": {},
     "output_type": "execute_result"
    }
   ],
   "source": [
    "c=confusion_matrix(targets_test,ypred)\n",
    "c"
   ]
  },
  {
   "cell_type": "code",
   "execution_count": 21,
   "id": "0ffab4c7",
   "metadata": {},
   "outputs": [],
   "source": [
    "ypred1=clf.predict(inputs_train)"
   ]
  },
  {
   "cell_type": "code",
   "execution_count": 22,
   "id": "31b222ac",
   "metadata": {},
   "outputs": [
    {
     "data": {
      "text/plain": [
       "84.73214285714286"
      ]
     },
     "execution_count": 22,
     "metadata": {},
     "output_type": "execute_result"
    }
   ],
   "source": [
    "ac1=accuracy_score(targets_train,ypred1)*100\n",
    "ac1"
   ]
  },
  {
   "cell_type": "code",
   "execution_count": 23,
   "id": "eabf33c0",
   "metadata": {},
   "outputs": [
    {
     "data": {
      "text/plain": [
       "array([[108,   0,   0,   0,   9,   2,   0,   0,   2,   0],\n",
       "       [  0, 111,   0,   0,   0,   0,   0,   0,   0,   0],\n",
       "       [  0,   0, 109,   0,   0,   0,   0,   0,   0,   0],\n",
       "       [  0,   0,   0,  97,   4,   1,   0,   0,   7,   9],\n",
       "       [ 12,   0,   0,   0,  97,   3,   0,   0,   5,   0],\n",
       "       [  5,   0,   0,   0,   3, 100,   0,   0,   2,   0],\n",
       "       [  0,   0,   0,   0,   0,   0, 113,   0,   0,   0],\n",
       "       [  0,   0,   0,   0,   0,   0,   0, 110,   0,   0],\n",
       "       [ 81,   0,   0,   0,  15,   7,   0,   0,   3,   0],\n",
       "       [  0,   0,   0,   0,   0,   2,   0,   0,   2, 101]], dtype=int64)"
      ]
     },
     "execution_count": 23,
     "metadata": {},
     "output_type": "execute_result"
    }
   ],
   "source": [
    "c1=confusion_matrix(targets_train,ypred1)\n",
    "c1"
   ]
  },
  {
   "cell_type": "code",
   "execution_count": 24,
   "id": "7985383d",
   "metadata": {},
   "outputs": [],
   "source": [
    "YR=np.concatenate((targets_test,targets_train),axis=0)"
   ]
  },
  {
   "cell_type": "code",
   "execution_count": 25,
   "id": "af0e07fb",
   "metadata": {},
   "outputs": [],
   "source": [
    "YP = np.concatenate((ypred,ypred1), axis=0)\n"
   ]
  },
  {
   "cell_type": "code",
   "execution_count": 26,
   "id": "fa43e215",
   "metadata": {},
   "outputs": [
    {
     "data": {
      "text/plain": [
       "84.1875"
      ]
     },
     "execution_count": 26,
     "metadata": {},
     "output_type": "execute_result"
    }
   ],
   "source": [
    "ac2=accuracy_score(YR,YP)*100\n",
    "ac2"
   ]
  },
  {
   "cell_type": "code",
   "execution_count": 115,
   "id": "fdb82b48",
   "metadata": {},
   "outputs": [
    {
     "data": {
      "text/plain": [
       "array([[116,   0,   0,   7,  15,   0,  11,   0,  11,   0],\n",
       "       [  0, 111,   0,  49,   0,   0,   0,   0,   0,   0],\n",
       "       [  0,   0, 159,   0,   0,   0,   0,   1,   0,   0],\n",
       "       [  0,  22,   0,  98,   0,  40,   0,   0,   0,   0],\n",
       "       [ 22,   0,   0,  13,  42,  15,  20,   0,  48,   0],\n",
       "       [  0,  11,   0,  30,   0,  53,  60,   0,   0,   6],\n",
       "       [ 16,   0,   0,  14,  44,  11,  25,   0,  50,   0],\n",
       "       [  0,   0,   0,   0,   0,   0,   0, 160,   0,   0],\n",
       "       [ 77,   0,   0,  10,  35,   0,  15,   0,  23,   0],\n",
       "       [  0,  25,   0,   0,   0,   0,   0,   0,   0, 135]], dtype=int64)"
      ]
     },
     "execution_count": 115,
     "metadata": {},
     "output_type": "execute_result"
    }
   ],
   "source": [
    "c2=confusion_matrix(YR,YP)\n",
    "c2"
   ]
  },
  {
   "cell_type": "code",
   "execution_count": null,
   "id": "b61ce21f",
   "metadata": {},
   "outputs": [],
   "source": []
  }
 ],
 "metadata": {
  "kernelspec": {
   "display_name": "Python 3",
   "language": "python",
   "name": "python3"
  },
  "language_info": {
   "codemirror_mode": {
    "name": "ipython",
    "version": 3
   },
   "file_extension": ".py",
   "mimetype": "text/x-python",
   "name": "python",
   "nbconvert_exporter": "python",
   "pygments_lexer": "ipython3",
   "version": "3.8.8"
  }
 },
 "nbformat": 4,
 "nbformat_minor": 5
}
